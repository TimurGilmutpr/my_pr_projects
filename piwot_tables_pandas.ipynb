{
 "cells": [
  {
   "cell_type": "markdown",
   "id": "89b22a33",
   "metadata": {},
   "source": [
    "Импортируем стандартные модули для анализа данных"
   ]
  },
  {
   "cell_type": "code",
   "execution_count": 1,
   "id": "0ee83285",
   "metadata": {},
   "outputs": [],
   "source": [
    "import pandas as pd \n",
    "import numpy as np "
   ]
  },
  {
   "cell_type": "markdown",
   "id": "816695b2",
   "metadata": {},
   "source": [
    "В отладке было много varning`ов, поэтому поставлю на все ignore"
   ]
  },
  {
   "cell_type": "code",
   "execution_count": 2,
   "id": "54463db7",
   "metadata": {},
   "outputs": [],
   "source": [
    "import warnings\n",
    "warnings.filterwarnings('ignore')"
   ]
  },
  {
   "cell_type": "markdown",
   "id": "8d52299f",
   "metadata": {},
   "source": [
    "Задание 1"
   ]
  },
  {
   "cell_type": "markdown",
   "id": "a2257fc1",
   "metadata": {},
   "source": [
    "1. Предобработка таблицы:"
   ]
  },
  {
   "cell_type": "code",
   "execution_count": 3,
   "id": "00e59863",
   "metadata": {},
   "outputs": [
    {
     "data": {
      "text/plain": [
       "['.ipynb_checkpoints',\n",
       " 'task2.xlsx',\n",
       " 'Test_task_Gilmutdinov.ipynb',\n",
       " '~$стовое задание на аналитика.docx',\n",
       " 'Города.xlsx',\n",
       " 'Сотрудники.xlsx',\n",
       " 'Тестовое задание на аналитика.docx']"
      ]
     },
     "execution_count": 3,
     "metadata": {},
     "output_type": "execute_result"
    }
   ],
   "source": [
    "import os\n",
    "cur_dir = \".\"\n",
    "work_files = [file for file in os.listdir(cur_dir)]\n",
    "work_files"
   ]
  },
  {
   "cell_type": "code",
   "execution_count": 4,
   "id": "d1f41364",
   "metadata": {},
   "outputs": [
    {
     "data": {
      "text/html": [
       "<div>\n",
       "<style scoped>\n",
       "    .dataframe tbody tr th:only-of-type {\n",
       "        vertical-align: middle;\n",
       "    }\n",
       "\n",
       "    .dataframe tbody tr th {\n",
       "        vertical-align: top;\n",
       "    }\n",
       "\n",
       "    .dataframe thead th {\n",
       "        text-align: right;\n",
       "    }\n",
       "</style>\n",
       "<table border=\"1\" class=\"dataframe\">\n",
       "  <thead>\n",
       "    <tr style=\"text-align: right;\">\n",
       "      <th></th>\n",
       "      <th>Период</th>\n",
       "      <th>ID должности</th>\n",
       "      <th>Табельный номер</th>\n",
       "      <th>Город</th>\n",
       "      <th>Должность</th>\n",
       "      <th>ФИО</th>\n",
       "    </tr>\n",
       "  </thead>\n",
       "  <tbody>\n",
       "    <tr>\n",
       "      <th>0</th>\n",
       "      <td>44927</td>\n",
       "      <td>1000</td>\n",
       "      <td>2201.0</td>\n",
       "      <td>Новоуральск</td>\n",
       "      <td>главный клиентский менеджер розничного бизнеса</td>\n",
       "      <td>Корнеев З.</td>\n",
       "    </tr>\n",
       "    <tr>\n",
       "      <th>1</th>\n",
       "      <td>44927</td>\n",
       "      <td>1001</td>\n",
       "      <td>2202.0</td>\n",
       "      <td>Оленегорск</td>\n",
       "      <td>управляющий операционным офисом</td>\n",
       "      <td>Сергеев Е.</td>\n",
       "    </tr>\n",
       "    <tr>\n",
       "      <th>2</th>\n",
       "      <td>44927</td>\n",
       "      <td>1002</td>\n",
       "      <td>2203.0</td>\n",
       "      <td>Североуральск</td>\n",
       "      <td>руководитель группы</td>\n",
       "      <td>Корнеев Д.</td>\n",
       "    </tr>\n",
       "    <tr>\n",
       "      <th>3</th>\n",
       "      <td>44927</td>\n",
       "      <td>1003</td>\n",
       "      <td>2204.0</td>\n",
       "      <td>Жуковка</td>\n",
       "      <td>офис-менеджер</td>\n",
       "      <td>Петров Н.</td>\n",
       "    </tr>\n",
       "    <tr>\n",
       "      <th>4</th>\n",
       "      <td>44927</td>\n",
       "      <td>1004</td>\n",
       "      <td>2205.0</td>\n",
       "      <td>Воркута</td>\n",
       "      <td>эксперт по работе с партнерами</td>\n",
       "      <td>Корнеев Я.</td>\n",
       "    </tr>\n",
       "  </tbody>\n",
       "</table>\n",
       "</div>"
      ],
      "text/plain": [
       "   Период ID должности  Табельный номер          Город  \\\n",
       "0   44927         1000           2201.0    Новоуральск   \n",
       "1   44927         1001           2202.0     Оленегорск   \n",
       "2   44927         1002           2203.0  Североуральск   \n",
       "3   44927         1003           2204.0        Жуковка   \n",
       "4   44927         1004           2205.0        Воркута   \n",
       "\n",
       "                                        Должность         ФИО  \n",
       "0  главный клиентский менеджер розничного бизнеса  Корнеев З.  \n",
       "1                 управляющий операционным офисом  Сергеев Е.  \n",
       "2                             руководитель группы  Корнеев Д.  \n",
       "3                                   офис-менеджер   Петров Н.  \n",
       "4                  эксперт по работе с партнерами  Корнеев Я.  "
      ]
     },
     "execution_count": 4,
     "metadata": {},
     "output_type": "execute_result"
    }
   ],
   "source": [
    "employee_data = pd.read_excel('Сотрудники.xlsx')\n",
    "employee_data.head()"
   ]
  },
  {
   "cell_type": "code",
   "execution_count": 5,
   "id": "7a9020f1",
   "metadata": {},
   "outputs": [
    {
     "data": {
      "text/plain": [
       "Период               int64\n",
       "ID должности        object\n",
       "Табельный номер    float64\n",
       "Город               object\n",
       "Должность           object\n",
       "ФИО                 object\n",
       "dtype: object"
      ]
     },
     "execution_count": 5,
     "metadata": {},
     "output_type": "execute_result"
    }
   ],
   "source": [
    "employee_data.dtypes"
   ]
  },
  {
   "cell_type": "code",
   "execution_count": 6,
   "id": "61f05d9b",
   "metadata": {},
   "outputs": [
    {
     "name": "stdout",
     "output_type": "stream",
     "text": [
      "employee_data размерность (5001, 6)\n",
      "employee_data типы данных Период               int64\n",
      "ID должности        object\n",
      "Табельный номер    float64\n",
      "Город               object\n",
      "Должность           object\n",
      "ФИО                 object\n",
      "dtype: object\n",
      "employee_data пропуски nan Период             False\n",
      "ID должности       False\n",
      "Табельный номер     True\n",
      "Город               True\n",
      "Должность           True\n",
      "ФИО                 True\n",
      "dtype: bool\n",
      "employee_data пропуски null Период             False\n",
      "ID должности       False\n",
      "Табельный номер     True\n",
      "Город               True\n",
      "Должность           True\n",
      "ФИО                 True\n",
      "dtype: bool\n"
     ]
    }
   ],
   "source": [
    "employee_shape = employee_data.shape\n",
    "employee_dtypes = employee_data.dtypes\n",
    "employee_isna = employee_data.isna()\n",
    "employee_isnull = employee_data.isnull()\n",
    "print(f\"employee_data размерность {employee_shape}\")\n",
    "print(f\"employee_data типы данных {employee_dtypes}\")\n",
    "print(f\"employee_data пропуски nan {employee_isna.any()}\")\n",
    "print(f\"employee_data пропуски null {employee_isnull.any()}\")"
   ]
  },
  {
   "cell_type": "markdown",
   "id": "cc8b179d",
   "metadata": {},
   "source": [
    "Очевидно, что в данных есть пропуски, устриним их в следующих шагах (теперь у нас есть маски по которым будем работать с пропусками). "
   ]
  },
  {
   "cell_type": "markdown",
   "id": "ddefff12",
   "metadata": {},
   "source": [
    "1.1. В таблице есть ошибки данных (некорректный для поля тип данных, дубликат и пр.), укажите, как их обнаружили, и что предприняли для их устранения"
   ]
  },
  {
   "cell_type": "code",
   "execution_count": 7,
   "id": "8585881a",
   "metadata": {},
   "outputs": [
    {
     "data": {
      "text/plain": [
       "Период               int64\n",
       "ID должности        object\n",
       "Табельный номер    float64\n",
       "Город               object\n",
       "Должность           object\n",
       "ФИО                 object\n",
       "dtype: object"
      ]
     },
     "execution_count": 7,
     "metadata": {},
     "output_type": "execute_result"
    }
   ],
   "source": [
    "employee_dtypes"
   ]
  },
  {
   "cell_type": "markdown",
   "id": "67e689be",
   "metadata": {},
   "source": [
    "Приведем ID к int, у табельного номера странный тип, но оставим (вдруг у системы такие требования), город, долдность, фио типы. \n",
    "1) Проверим нет ли в id букв и спец символов, а вдругих очевидно строчных данных нет ли цифр?\n",
    "2) удалим неверные символы\n",
    "3) приведем данные к нужным типам"
   ]
  },
  {
   "cell_type": "code",
   "execution_count": 8,
   "id": "226ae04a",
   "metadata": {},
   "outputs": [
    {
     "name": "stdout",
     "output_type": "stream",
     "text": [
      "есть примеси в данных\n"
     ]
    }
   ],
   "source": [
    "try:\n",
    "    employee_data[\"ID должности\"] = employee_data[\"ID должности\"].astype(int)\n",
    "except:\n",
    "    print(\"есть примеси в данных\")"
   ]
  },
  {
   "cell_type": "code",
   "execution_count": 9,
   "id": "d4157500",
   "metadata": {},
   "outputs": [
    {
     "data": {
      "text/plain": [
       "'1013,Нягань'"
      ]
     },
     "execution_count": 9,
     "metadata": {},
     "output_type": "execute_result"
    }
   ],
   "source": [
    "employee_data['ID должности'][13]"
   ]
  },
  {
   "cell_type": "code",
   "execution_count": 10,
   "id": "9f57ba4b",
   "metadata": {},
   "outputs": [],
   "source": [
    "#сделаем в одну проходку без проверок (так дешевле) удаление нецифр из ID\n",
    "employee_data[\"ID должности\"] = employee_data[\"ID должности\"].astype(str).str.extract('(\\d+)').astype(int)"
   ]
  },
  {
   "cell_type": "code",
   "execution_count": 11,
   "id": "f3eea03d",
   "metadata": {},
   "outputs": [],
   "source": [
    "employee_data[\"Период\"] = pd.to_datetime(employee_data[\"Период\"], unit='D', origin='1899-12-30')\n",
    "# или\n"
   ]
  },
  {
   "cell_type": "code",
   "execution_count": 12,
   "id": "93660b5b",
   "metadata": {},
   "outputs": [
    {
     "data": {
      "text/html": [
       "<div>\n",
       "<style scoped>\n",
       "    .dataframe tbody tr th:only-of-type {\n",
       "        vertical-align: middle;\n",
       "    }\n",
       "\n",
       "    .dataframe tbody tr th {\n",
       "        vertical-align: top;\n",
       "    }\n",
       "\n",
       "    .dataframe thead th {\n",
       "        text-align: right;\n",
       "    }\n",
       "</style>\n",
       "<table border=\"1\" class=\"dataframe\">\n",
       "  <thead>\n",
       "    <tr style=\"text-align: right;\">\n",
       "      <th></th>\n",
       "      <th>Период</th>\n",
       "      <th>ID должности</th>\n",
       "      <th>Табельный номер</th>\n",
       "      <th>Город</th>\n",
       "      <th>Должность</th>\n",
       "      <th>ФИО</th>\n",
       "    </tr>\n",
       "  </thead>\n",
       "  <tbody>\n",
       "    <tr>\n",
       "      <th>0</th>\n",
       "      <td>2023-01-01</td>\n",
       "      <td>1000</td>\n",
       "      <td>2201.0</td>\n",
       "      <td>Новоуральск</td>\n",
       "      <td>главный клиентский менеджер розничного бизнеса</td>\n",
       "      <td>Корнеев З.</td>\n",
       "    </tr>\n",
       "    <tr>\n",
       "      <th>1</th>\n",
       "      <td>2023-01-01</td>\n",
       "      <td>1001</td>\n",
       "      <td>2202.0</td>\n",
       "      <td>Оленегорск</td>\n",
       "      <td>управляющий операционным офисом</td>\n",
       "      <td>Сергеев Е.</td>\n",
       "    </tr>\n",
       "    <tr>\n",
       "      <th>2</th>\n",
       "      <td>2023-01-01</td>\n",
       "      <td>1002</td>\n",
       "      <td>2203.0</td>\n",
       "      <td>Североуральск</td>\n",
       "      <td>руководитель группы</td>\n",
       "      <td>Корнеев Д.</td>\n",
       "    </tr>\n",
       "    <tr>\n",
       "      <th>3</th>\n",
       "      <td>2023-01-01</td>\n",
       "      <td>1003</td>\n",
       "      <td>2204.0</td>\n",
       "      <td>Жуковка</td>\n",
       "      <td>офис-менеджер</td>\n",
       "      <td>Петров Н.</td>\n",
       "    </tr>\n",
       "    <tr>\n",
       "      <th>4</th>\n",
       "      <td>2023-01-01</td>\n",
       "      <td>1004</td>\n",
       "      <td>2205.0</td>\n",
       "      <td>Воркута</td>\n",
       "      <td>эксперт по работе с партнерами</td>\n",
       "      <td>Корнеев Я.</td>\n",
       "    </tr>\n",
       "  </tbody>\n",
       "</table>\n",
       "</div>"
      ],
      "text/plain": [
       "      Период  ID должности  Табельный номер          Город  \\\n",
       "0 2023-01-01          1000           2201.0    Новоуральск   \n",
       "1 2023-01-01          1001           2202.0     Оленегорск   \n",
       "2 2023-01-01          1002           2203.0  Североуральск   \n",
       "3 2023-01-01          1003           2204.0        Жуковка   \n",
       "4 2023-01-01          1004           2205.0        Воркута   \n",
       "\n",
       "                                        Должность         ФИО  \n",
       "0  главный клиентский менеджер розничного бизнеса  Корнеев З.  \n",
       "1                 управляющий операционным офисом  Сергеев Е.  \n",
       "2                             руководитель группы  Корнеев Д.  \n",
       "3                                   офис-менеджер   Петров Н.  \n",
       "4                  эксперт по работе с партнерами  Корнеев Я.  "
      ]
     },
     "execution_count": 12,
     "metadata": {},
     "output_type": "execute_result"
    }
   ],
   "source": [
    "employee_data.head()"
   ]
  },
  {
   "cell_type": "code",
   "execution_count": 13,
   "id": "aec96062",
   "metadata": {},
   "outputs": [
    {
     "data": {
      "text/plain": [
       "1013"
      ]
     },
     "execution_count": 13,
     "metadata": {},
     "output_type": "execute_result"
    }
   ],
   "source": [
    "employee_data['ID должности'][13]"
   ]
  },
  {
   "cell_type": "code",
   "execution_count": 14,
   "id": "c1f79e5f",
   "metadata": {},
   "outputs": [],
   "source": [
    "#переведем остальные фичи в строковой тип\n",
    "employee_data['Город'] = employee_data['Город'].astype(str)\n",
    "employee_data['Должность'] = employee_data['Должность'].astype(str)\n",
    "employee_data['ФИО'] = employee_data['ФИО'].astype(str)\n",
    "\n",
    "employee_data[\"Город\"] = employee_data[\"Город\"].str.replace(r\"\\d+\", \"\", regex=True)\n",
    "employee_data[\"Должность\"] = employee_data[\"Должность\"].str.replace(r\"\\d+\", \"\", regex=True)\n",
    "employee_data[\"ФИО\"] = employee_data[\"ФИО\"].str.replace(r\"\\d+\", \"\", regex=True)"
   ]
  },
  {
   "cell_type": "code",
   "execution_count": 15,
   "id": "0b87c693",
   "metadata": {},
   "outputs": [
    {
     "data": {
      "text/plain": [
       "Период             datetime64[ns]\n",
       "ID должности                int32\n",
       "Табельный номер           float64\n",
       "Город                      object\n",
       "Должность                  object\n",
       "ФИО                        object\n",
       "dtype: object"
      ]
     },
     "execution_count": 15,
     "metadata": {},
     "output_type": "execute_result"
    }
   ],
   "source": [
    "employee_data.dtypes"
   ]
  },
  {
   "cell_type": "code",
   "execution_count": 16,
   "id": "67cb3b13",
   "metadata": {},
   "outputs": [
    {
     "data": {
      "text/html": [
       "<div>\n",
       "<style scoped>\n",
       "    .dataframe tbody tr th:only-of-type {\n",
       "        vertical-align: middle;\n",
       "    }\n",
       "\n",
       "    .dataframe tbody tr th {\n",
       "        vertical-align: top;\n",
       "    }\n",
       "\n",
       "    .dataframe thead th {\n",
       "        text-align: right;\n",
       "    }\n",
       "</style>\n",
       "<table border=\"1\" class=\"dataframe\">\n",
       "  <thead>\n",
       "    <tr style=\"text-align: right;\">\n",
       "      <th></th>\n",
       "      <th>Период</th>\n",
       "      <th>ID должности</th>\n",
       "      <th>Табельный номер</th>\n",
       "      <th>Город</th>\n",
       "      <th>Должность</th>\n",
       "      <th>ФИО</th>\n",
       "    </tr>\n",
       "  </thead>\n",
       "  <tbody>\n",
       "    <tr>\n",
       "      <th>0</th>\n",
       "      <td>2023-01-01</td>\n",
       "      <td>1000</td>\n",
       "      <td>2201.0</td>\n",
       "      <td>Новоуральск</td>\n",
       "      <td>главный клиентский менеджер розничного бизнеса</td>\n",
       "      <td>Корнеев З.</td>\n",
       "    </tr>\n",
       "    <tr>\n",
       "      <th>1</th>\n",
       "      <td>2023-01-01</td>\n",
       "      <td>1001</td>\n",
       "      <td>2202.0</td>\n",
       "      <td>Оленегорск</td>\n",
       "      <td>управляющий операционным офисом</td>\n",
       "      <td>Сергеев Е.</td>\n",
       "    </tr>\n",
       "    <tr>\n",
       "      <th>2</th>\n",
       "      <td>2023-01-01</td>\n",
       "      <td>1002</td>\n",
       "      <td>2203.0</td>\n",
       "      <td>Североуральск</td>\n",
       "      <td>руководитель группы</td>\n",
       "      <td>Корнеев Д.</td>\n",
       "    </tr>\n",
       "    <tr>\n",
       "      <th>3</th>\n",
       "      <td>2023-01-01</td>\n",
       "      <td>1003</td>\n",
       "      <td>2204.0</td>\n",
       "      <td>Жуковка</td>\n",
       "      <td>офис-менеджер</td>\n",
       "      <td>Петров Н.</td>\n",
       "    </tr>\n",
       "    <tr>\n",
       "      <th>4</th>\n",
       "      <td>2023-01-01</td>\n",
       "      <td>1004</td>\n",
       "      <td>2205.0</td>\n",
       "      <td>Воркута</td>\n",
       "      <td>эксперт по работе с партнерами</td>\n",
       "      <td>Корнеев Я.</td>\n",
       "    </tr>\n",
       "  </tbody>\n",
       "</table>\n",
       "</div>"
      ],
      "text/plain": [
       "      Период  ID должности  Табельный номер          Город  \\\n",
       "0 2023-01-01          1000           2201.0    Новоуральск   \n",
       "1 2023-01-01          1001           2202.0     Оленегорск   \n",
       "2 2023-01-01          1002           2203.0  Североуральск   \n",
       "3 2023-01-01          1003           2204.0        Жуковка   \n",
       "4 2023-01-01          1004           2205.0        Воркута   \n",
       "\n",
       "                                        Должность         ФИО  \n",
       "0  главный клиентский менеджер розничного бизнеса  Корнеев З.  \n",
       "1                 управляющий операционным офисом  Сергеев Е.  \n",
       "2                             руководитель группы  Корнеев Д.  \n",
       "3                                   офис-менеджер   Петров Н.  \n",
       "4                  эксперт по работе с партнерами  Корнеев Я.  "
      ]
     },
     "execution_count": 16,
     "metadata": {},
     "output_type": "execute_result"
    }
   ],
   "source": [
    "employee_data.head()"
   ]
  },
  {
   "cell_type": "markdown",
   "id": "f03500fd",
   "metadata": {},
   "source": [
    "1.2. Часть данных по некоторым должностям была утеряна, но известно, что ID имеет уникальную должность и локацию, и не меняется из периода в период, восстановите недостающие данные"
   ]
  },
  {
   "cell_type": "code",
   "execution_count": 17,
   "id": "ad16ca31",
   "metadata": {},
   "outputs": [
    {
     "data": {
      "text/plain": [
       "Период                         2023-01-01 00:00:00\n",
       "ID должности                                  1001\n",
       "Табельный номер                             2202.0\n",
       "Город                                   Оленегорск\n",
       "Должность          управляющий операционным офисом\n",
       "ФИО                                     Сергеев Е.\n",
       "Name: 1, dtype: object"
      ]
     },
     "execution_count": 17,
     "metadata": {},
     "output_type": "execute_result"
    }
   ],
   "source": [
    "check = employee_data.iloc[1]\n",
    "check"
   ]
  },
  {
   "cell_type": "code",
   "execution_count": 18,
   "id": "cff5a91e",
   "metadata": {},
   "outputs": [
    {
     "name": "stdout",
     "output_type": "stream",
     "text": [
      "0 2023-01-01 00:00:00\n",
      "1 1001\n",
      "2 2202.0\n",
      "3 Оленегорск\n",
      "4 управляющий операционным офисом\n",
      "5 Сергеев Е.\n"
     ]
    }
   ],
   "source": [
    "for i in range(len(check)):\n",
    "    print(i, check[i], end = \"\\n\")"
   ]
  },
  {
   "cell_type": "code",
   "execution_count": 19,
   "id": "83170878",
   "metadata": {},
   "outputs": [
    {
     "data": {
      "text/plain": [
       "Период             2023-01-01 00:00:00\n",
       "ID должности                      1070\n",
       "Табельный номер                    NaN\n",
       "Город                              nan\n",
       "Должность                          nan\n",
       "ФИО                                nan\n",
       "Name: 70, dtype: object"
      ]
     },
     "execution_count": 19,
     "metadata": {},
     "output_type": "execute_result"
    }
   ],
   "source": [
    "\n",
    "employee_data.iloc[70]"
   ]
  },
  {
   "cell_type": "markdown",
   "id": "d945966c",
   "metadata": {},
   "source": [
    "Составим черновик условия проверки"
   ]
  },
  {
   "cell_type": "code",
   "execution_count": 20,
   "id": "a54f3530",
   "metadata": {},
   "outputs": [
    {
     "data": {
      "text/plain": [
       "True"
      ]
     },
     "execution_count": 20,
     "metadata": {},
     "output_type": "execute_result"
    }
   ],
   "source": [
    "a = np.isnan(employee_data.iloc[70][2]) or employee_data.iloc[70][3] == 'nan' or employee_data.iloc[70][4] == 'nan' \n",
    "a"
   ]
  },
  {
   "cell_type": "code",
   "execution_count": 21,
   "id": "c93ab850",
   "metadata": {},
   "outputs": [],
   "source": [
    "#составим словарь id: list(фичей) (по hash table быстрее поиск o(const), а не o(n))\n",
    "# в этой же проходке составим список iloc`ов, которые с пропусками, потом по ним пройдемся и отиговая сложность будет o(n), а не о(n**2)\n",
    "id_dict = dict()\n",
    "list_missed = []\n",
    "for i in range(employee_shape[0]):\n",
    "\n",
    "    if np.isnan(employee_data.iloc[i, 2]) or employee_data.iloc[i, 3] == 'nan' or employee_data.iloc[i, 4] == 'nan':\n",
    "        list_missed.append(i)\n",
    "    else:\n",
    "        id_dict[employee_data.iloc[i, 1]] = [future for future in employee_data.iloc[i, 2:]]\n",
    "\n",
    "        \n"
   ]
  },
  {
   "cell_type": "code",
   "execution_count": 22,
   "id": "e43406f3",
   "metadata": {},
   "outputs": [
    {
     "data": {
      "text/plain": [
       "[2208.0, 'Амурск', 'клиентский менеджер', 'Бобров Л.']"
      ]
     },
     "execution_count": 22,
     "metadata": {},
     "output_type": "execute_result"
    }
   ],
   "source": [
    "id_dict[1007]"
   ]
  },
  {
   "cell_type": "code",
   "execution_count": 23,
   "id": "1fb6fde4",
   "metadata": {},
   "outputs": [
    {
     "data": {
      "text/plain": [
       "1001"
      ]
     },
     "execution_count": 23,
     "metadata": {},
     "output_type": "execute_result"
    }
   ],
   "source": [
    "employee_data.iloc[1999, 1]"
   ]
  },
  {
   "cell_type": "code",
   "execution_count": null,
   "id": "ab431285",
   "metadata": {},
   "outputs": [
    {
     "name": "stdout",
     "output_type": "stream",
     "text": [
      "Период             2023-01-01 00:00:00\n",
      "ID должности                      1070\n",
      "Табельный номер                    NaN\n",
      "Город                         Рузаевка\n",
      "Должность                     менеджер\n",
      "ФИО                                nan\n",
      "Name: 70, dtype: object\n",
      "{4995, 4996, 4997, 4998, 4999, 5000}\n"
     ]
    }
   ],
   "source": [
    "\n",
    "check_ = []\n",
    "empty_positions = []\n",
    "for k in list_missed:\n",
    "    id_ = employee_data.iloc[k, 1]\n",
    "    for j in (3, 4):\n",
    "        #которое выделит пустые долдности  в отдельный список\n",
    "        \"\"\"\n",
    "        Часть данных по некоторым должностям была утеряна, но известно, что ID имеет уникальную должность и локацию, и не меняется из периода в период, восстановите недостающие данные\n",
    "        УНИКАЛЬНАЯ ДОЛЖНОСТЬ И ЛОКАЦИЯ, ЗНАЧИТ НЕ ВПИСЫВАЕМ СОТРУДНИКА!!!!!!??????\n",
    "        ибо иначе все руинится!!!! Вначале не так понял формулировку и заполнил пустые позиции, а потом понял, что это не правильно!!!!\n",
    "        т.е. если id_ = 1007, то в employee_data.iloc[k, j] будет записано id_dict[1007][j - 2], где j - 3,4 (т.е. должность и локация)\n",
    "        \"\"\"\n",
    "        try:\n",
    "            #employee_data.iloc[k, j] = id_dict[id_][j - 2]\n",
    "            #записываем только должность и локацию!!!!!\n",
    "            employee_data.iloc[k, j] = id_dict[id_][j - 2]\n",
    "        except:\n",
    "            empty_positions.append(k)\n",
    "    check_.append(employee_data.iloc[k])\n",
    "print(check_[0])\n",
    "empty_positions = set(empty_positions)\n",
    "print(empty_positions)"
   ]
  },
  {
   "cell_type": "markdown",
   "id": "5f2db030",
   "metadata": {},
   "source": [
    "1.3. Вытянуть строки с новыми штатными единицами, на которые еще не распределены должности и сотрудники. В графах Табельного номера и Должности проставить признак «Резерв»;"
   ]
  },
  {
   "cell_type": "code",
   "execution_count": 25,
   "id": "e9bfede0",
   "metadata": {},
   "outputs": [],
   "source": [
    "for k in empty_positions:\n",
    "    employee_data.iloc[k, 2] = \"Резерв\"\n",
    "    employee_data.iloc[k, 4] = \"Резерв\"\n",
    "    "
   ]
  },
  {
   "cell_type": "code",
   "execution_count": 26,
   "id": "942ad746",
   "metadata": {},
   "outputs": [
    {
     "data": {
      "text/html": [
       "<div>\n",
       "<style scoped>\n",
       "    .dataframe tbody tr th:only-of-type {\n",
       "        vertical-align: middle;\n",
       "    }\n",
       "\n",
       "    .dataframe tbody tr th {\n",
       "        vertical-align: top;\n",
       "    }\n",
       "\n",
       "    .dataframe thead th {\n",
       "        text-align: right;\n",
       "    }\n",
       "</style>\n",
       "<table border=\"1\" class=\"dataframe\">\n",
       "  <thead>\n",
       "    <tr style=\"text-align: right;\">\n",
       "      <th></th>\n",
       "      <th>Период</th>\n",
       "      <th>ID должности</th>\n",
       "      <th>Табельный номер</th>\n",
       "      <th>Город</th>\n",
       "      <th>Должность</th>\n",
       "      <th>ФИО</th>\n",
       "    </tr>\n",
       "  </thead>\n",
       "  <tbody>\n",
       "    <tr>\n",
       "      <th>0</th>\n",
       "      <td>2023-01-01</td>\n",
       "      <td>1000</td>\n",
       "      <td>2201.0</td>\n",
       "      <td>Новоуральск</td>\n",
       "      <td>главный клиентский менеджер розничного бизнеса</td>\n",
       "      <td>Корнеев З.</td>\n",
       "    </tr>\n",
       "    <tr>\n",
       "      <th>1</th>\n",
       "      <td>2023-01-01</td>\n",
       "      <td>1001</td>\n",
       "      <td>2202.0</td>\n",
       "      <td>Оленегорск</td>\n",
       "      <td>управляющий операционным офисом</td>\n",
       "      <td>Сергеев Е.</td>\n",
       "    </tr>\n",
       "    <tr>\n",
       "      <th>2</th>\n",
       "      <td>2023-01-01</td>\n",
       "      <td>1002</td>\n",
       "      <td>2203.0</td>\n",
       "      <td>Североуральск</td>\n",
       "      <td>руководитель группы</td>\n",
       "      <td>Корнеев Д.</td>\n",
       "    </tr>\n",
       "    <tr>\n",
       "      <th>3</th>\n",
       "      <td>2023-01-01</td>\n",
       "      <td>1003</td>\n",
       "      <td>2204.0</td>\n",
       "      <td>Жуковка</td>\n",
       "      <td>офис-менеджер</td>\n",
       "      <td>Петров Н.</td>\n",
       "    </tr>\n",
       "    <tr>\n",
       "      <th>4</th>\n",
       "      <td>2023-01-01</td>\n",
       "      <td>1004</td>\n",
       "      <td>2205.0</td>\n",
       "      <td>Воркута</td>\n",
       "      <td>эксперт по работе с партнерами</td>\n",
       "      <td>Корнеев Я.</td>\n",
       "    </tr>\n",
       "  </tbody>\n",
       "</table>\n",
       "</div>"
      ],
      "text/plain": [
       "      Период  ID должности Табельный номер          Город  \\\n",
       "0 2023-01-01          1000          2201.0    Новоуральск   \n",
       "1 2023-01-01          1001          2202.0     Оленегорск   \n",
       "2 2023-01-01          1002          2203.0  Североуральск   \n",
       "3 2023-01-01          1003          2204.0        Жуковка   \n",
       "4 2023-01-01          1004          2205.0        Воркута   \n",
       "\n",
       "                                        Должность         ФИО  \n",
       "0  главный клиентский менеджер розничного бизнеса  Корнеев З.  \n",
       "1                 управляющий операционным офисом  Сергеев Е.  \n",
       "2                             руководитель группы  Корнеев Д.  \n",
       "3                                   офис-менеджер   Петров Н.  \n",
       "4                  эксперт по работе с партнерами  Корнеев Я.  "
      ]
     },
     "execution_count": 26,
     "metadata": {},
     "output_type": "execute_result"
    }
   ],
   "source": [
    "employee_data.head()"
   ]
  },
  {
   "cell_type": "code",
   "execution_count": 27,
   "id": "33b32cc9",
   "metadata": {},
   "outputs": [
    {
     "data": {
      "text/html": [
       "<div>\n",
       "<style scoped>\n",
       "    .dataframe tbody tr th:only-of-type {\n",
       "        vertical-align: middle;\n",
       "    }\n",
       "\n",
       "    .dataframe tbody tr th {\n",
       "        vertical-align: top;\n",
       "    }\n",
       "\n",
       "    .dataframe thead th {\n",
       "        text-align: right;\n",
       "    }\n",
       "</style>\n",
       "<table border=\"1\" class=\"dataframe\">\n",
       "  <thead>\n",
       "    <tr style=\"text-align: right;\">\n",
       "      <th></th>\n",
       "      <th>Период</th>\n",
       "      <th>ID должности</th>\n",
       "      <th>Табельный номер</th>\n",
       "      <th>Город</th>\n",
       "      <th>Должность</th>\n",
       "      <th>ФИО</th>\n",
       "    </tr>\n",
       "  </thead>\n",
       "  <tbody>\n",
       "    <tr>\n",
       "      <th>4995</th>\n",
       "      <td>2023-05-01</td>\n",
       "      <td>1999</td>\n",
       "      <td>Резерв</td>\n",
       "      <td>nan</td>\n",
       "      <td>Резерв</td>\n",
       "      <td>nan</td>\n",
       "    </tr>\n",
       "    <tr>\n",
       "      <th>4996</th>\n",
       "      <td>2023-05-01</td>\n",
       "      <td>2000</td>\n",
       "      <td>Резерв</td>\n",
       "      <td>nan</td>\n",
       "      <td>Резерв</td>\n",
       "      <td>nan</td>\n",
       "    </tr>\n",
       "    <tr>\n",
       "      <th>4997</th>\n",
       "      <td>2023-05-01</td>\n",
       "      <td>2001</td>\n",
       "      <td>Резерв</td>\n",
       "      <td>nan</td>\n",
       "      <td>Резерв</td>\n",
       "      <td>nan</td>\n",
       "    </tr>\n",
       "    <tr>\n",
       "      <th>4998</th>\n",
       "      <td>2023-05-01</td>\n",
       "      <td>2002</td>\n",
       "      <td>Резерв</td>\n",
       "      <td>nan</td>\n",
       "      <td>Резерв</td>\n",
       "      <td>nan</td>\n",
       "    </tr>\n",
       "    <tr>\n",
       "      <th>4999</th>\n",
       "      <td>2023-05-01</td>\n",
       "      <td>2003</td>\n",
       "      <td>Резерв</td>\n",
       "      <td>nan</td>\n",
       "      <td>Резерв</td>\n",
       "      <td>nan</td>\n",
       "    </tr>\n",
       "    <tr>\n",
       "      <th>5000</th>\n",
       "      <td>2023-05-01</td>\n",
       "      <td>2004</td>\n",
       "      <td>Резерв</td>\n",
       "      <td>nan</td>\n",
       "      <td>Резерв</td>\n",
       "      <td>nan</td>\n",
       "    </tr>\n",
       "  </tbody>\n",
       "</table>\n",
       "</div>"
      ],
      "text/plain": [
       "         Период  ID должности Табельный номер Город Должность  ФИО\n",
       "4995 2023-05-01          1999          Резерв   nan    Резерв  nan\n",
       "4996 2023-05-01          2000          Резерв   nan    Резерв  nan\n",
       "4997 2023-05-01          2001          Резерв   nan    Резерв  nan\n",
       "4998 2023-05-01          2002          Резерв   nan    Резерв  nan\n",
       "4999 2023-05-01          2003          Резерв   nan    Резерв  nan\n",
       "5000 2023-05-01          2004          Резерв   nan    Резерв  nan"
      ]
     },
     "execution_count": 27,
     "metadata": {},
     "output_type": "execute_result"
    }
   ],
   "source": [
    "employee_data.tail(6)"
   ]
  },
  {
   "cell_type": "markdown",
   "id": "a4bb2c68",
   "metadata": {},
   "source": [
    "сохраним все для задания два отдельно (полезно для отладки, вдруг данные \"побъю\")"
   ]
  },
  {
   "cell_type": "code",
   "execution_count": 28,
   "id": "654355de",
   "metadata": {},
   "outputs": [],
   "source": [
    "for_task_2 = employee_data.copy(deep=True)"
   ]
  },
  {
   "cell_type": "code",
   "execution_count": 29,
   "id": "7b731802",
   "metadata": {},
   "outputs": [],
   "source": [
    "for_task_2.to_excel(\"task2.xlsx\")"
   ]
  },
  {
   "cell_type": "markdown",
   "id": "32ed2046",
   "metadata": {},
   "source": [
    "2. Построить сводную таблицу с разбивкой по месяцам со следующими показателями:\n",
    "\n",
    "2.1. Количество действующих сотрудников (должностей);\n",
    "\n",
    "2.2. Количество свободных должностей (подсказка: табельный номер пустой);\n",
    "\n",
    "2.3. Доля свободных должностей от итого должностей;\n",
    "\n"
   ]
  },
  {
   "cell_type": "code",
   "execution_count": 30,
   "id": "f647cb4b",
   "metadata": {},
   "outputs": [
    {
     "name": "stdout",
     "output_type": "stream",
     "text": [
      "Данные с 2023-01-01 00:00:00 по 2023-05-01 00:00:00\n"
     ]
    }
   ],
   "source": [
    "#определим диапазон дат с которыми раьотать\n",
    "min_date = for_task_2['Период'].min()\n",
    "max_date = for_task_2['Период'].max()\n",
    "print(f\"Данные с {min_date} по {max_date}\")"
   ]
  },
  {
   "cell_type": "code",
   "execution_count": 31,
   "id": "b991f619",
   "metadata": {},
   "outputs": [],
   "source": [
    "#создадим фиу с месяцем для более удобной сортировки\n",
    "for_task_2['Месяц'] = for_task_2['Период'].dt.to_period('M')"
   ]
  },
  {
   "cell_type": "code",
   "execution_count": 32,
   "id": "df6989f1",
   "metadata": {},
   "outputs": [],
   "source": [
    "for_task_2['Свободная'] = for_task_2['Табельный номер'].isna() | (for_task_2['Табельный номер'] == \"Резерв\")"
   ]
  },
  {
   "cell_type": "code",
   "execution_count": 33,
   "id": "31b781f7",
   "metadata": {},
   "outputs": [],
   "source": [
    "#создадим сводную таблицу\n",
    "pivot_table = for_task_2.groupby('Месяц').agg(\n",
    "    Действующие=('Свободная', lambda x: (~x).sum()),#занятые должности\n",
    "    Свободные=('Свободная', 'sum'),#свободные должности\n",
    ").reset_index()\n",
    "pivot_table['Всего должностей'] = pivot_table['Действующие'] + pivot_table['Свободные']\n",
    "pivot_table['Доля свободных (%)'] = (pivot_table['Свободные'] / pivot_table['Всего должностей'] * 100).round(1)"
   ]
  },
  {
   "cell_type": "code",
   "execution_count": 34,
   "id": "1e57d783",
   "metadata": {},
   "outputs": [
    {
     "name": "stdout",
     "output_type": "stream",
     "text": [
      "     Месяц  Действующие  Свободные  Всего должностей  Доля свободных (%)\n",
      "0  2023-01          986         13               999                 1.3\n",
      "1  2023-02          975         24               999                 2.4\n",
      "2  2023-03          975         24               999                 2.4\n",
      "3  2023-04          970         29               999                 2.9\n",
      "4  2023-05          977         28              1005                 2.8\n"
     ]
    }
   ],
   "source": [
    "print(pivot_table)"
   ]
  },
  {
   "cell_type": "markdown",
   "id": "69f2e7be",
   "metadata": {},
   "source": [
    "3. Работа по дополнению предобработанной таблицы, добавьте следующие показатели:\n",
    "\n",
    "3.1. Федеральные округа и Регионы;\n",
    "\n",
    "3.2. Количество месяцев поиска сотрудника по должности накопительно по каждому месяцу (н-р должность \"директор\" не заполнена в январе до марта включительно, а в апреле заполнена, результат получится следующим: январь - 1, февраль - 2, март - 3). Задание повышенной сложности, если не получится реализовать, то напишите ваши идеи, как бы это могло быть реализовано. \n"
   ]
  },
  {
   "cell_type": "code",
   "execution_count": 35,
   "id": "fa2bf177",
   "metadata": {},
   "outputs": [
    {
     "data": {
      "text/html": [
       "<div>\n",
       "<style scoped>\n",
       "    .dataframe tbody tr th:only-of-type {\n",
       "        vertical-align: middle;\n",
       "    }\n",
       "\n",
       "    .dataframe tbody tr th {\n",
       "        vertical-align: top;\n",
       "    }\n",
       "\n",
       "    .dataframe thead th {\n",
       "        text-align: right;\n",
       "    }\n",
       "</style>\n",
       "<table border=\"1\" class=\"dataframe\">\n",
       "  <thead>\n",
       "    <tr style=\"text-align: right;\">\n",
       "      <th></th>\n",
       "      <th>Федеральный округ</th>\n",
       "      <th>Регион</th>\n",
       "      <th>Город</th>\n",
       "    </tr>\n",
       "  </thead>\n",
       "  <tbody>\n",
       "    <tr>\n",
       "      <th>0</th>\n",
       "      <td>ДФО</td>\n",
       "      <td>Амурская обл.</td>\n",
       "      <td>Белогорск</td>\n",
       "    </tr>\n",
       "    <tr>\n",
       "      <th>1</th>\n",
       "      <td>ДФО</td>\n",
       "      <td>Амурская обл.</td>\n",
       "      <td>Благовещенск</td>\n",
       "    </tr>\n",
       "    <tr>\n",
       "      <th>2</th>\n",
       "      <td>ДФО</td>\n",
       "      <td>Амурская обл.</td>\n",
       "      <td>Завитинск</td>\n",
       "    </tr>\n",
       "    <tr>\n",
       "      <th>3</th>\n",
       "      <td>ДФО</td>\n",
       "      <td>Амурская обл.</td>\n",
       "      <td>Магдагачи</td>\n",
       "    </tr>\n",
       "    <tr>\n",
       "      <th>4</th>\n",
       "      <td>ДФО</td>\n",
       "      <td>Амурская обл.</td>\n",
       "      <td>Свободный</td>\n",
       "    </tr>\n",
       "  </tbody>\n",
       "</table>\n",
       "</div>"
      ],
      "text/plain": [
       "  Федеральный округ         Регион         Город\n",
       "0               ДФО  Амурская обл.     Белогорск\n",
       "1               ДФО  Амурская обл.  Благовещенск\n",
       "2               ДФО  Амурская обл.     Завитинск\n",
       "3               ДФО  Амурская обл.     Магдагачи\n",
       "4               ДФО  Амурская обл.     Свободный"
      ]
     },
     "execution_count": 35,
     "metadata": {},
     "output_type": "execute_result"
    }
   ],
   "source": [
    "#прочтем данные по городам\n",
    "city_data = pd.read_excel(\"Города.xlsx\")\n",
    "city_data.head()"
   ]
  },
  {
   "cell_type": "code",
   "execution_count": 36,
   "id": "ca1787dd",
   "metadata": {},
   "outputs": [
    {
     "name": "stdout",
     "output_type": "stream",
     "text": [
      "city_data размерность (493, 3)\n",
      "city_data типы данных Федеральный округ    object\n",
      "Регион               object\n",
      "Город                object\n",
      "dtype: object\n",
      "city_data пропуски nan Федеральный округ    False\n",
      "Регион               False\n",
      "Город                False\n",
      "dtype: bool\n",
      "city_data пропуски null Федеральный округ    False\n",
      "Регион               False\n",
      "Город                False\n",
      "dtype: bool\n"
     ]
    }
   ],
   "source": [
    "city_shape = city_data.shape\n",
    "city_dtypes = city_data.dtypes\n",
    "city_isna = city_data.isna()\n",
    "city_isnull = city_data.isnull()\n",
    "print(f\"city_data размерность {city_shape}\")\n",
    "print(f\"city_data типы данных {city_dtypes}\")\n",
    "print(f\"city_data пропуски nan {city_isna.any()}\")\n",
    "print(f\"city_data пропуски null {city_isnull.any()}\")"
   ]
  },
  {
   "cell_type": "markdown",
   "id": "06bbf945",
   "metadata": {},
   "source": [
    "Тут пропусков нет, и хорошо"
   ]
  },
  {
   "cell_type": "code",
   "execution_count": null,
   "id": "8255a94c",
   "metadata": {},
   "outputs": [
    {
     "data": {
      "text/html": [
       "<div>\n",
       "<style scoped>\n",
       "    .dataframe tbody tr th:only-of-type {\n",
       "        vertical-align: middle;\n",
       "    }\n",
       "\n",
       "    .dataframe tbody tr th {\n",
       "        vertical-align: top;\n",
       "    }\n",
       "\n",
       "    .dataframe thead th {\n",
       "        text-align: right;\n",
       "    }\n",
       "</style>\n",
       "<table border=\"1\" class=\"dataframe\">\n",
       "  <thead>\n",
       "    <tr style=\"text-align: right;\">\n",
       "      <th></th>\n",
       "      <th>Период</th>\n",
       "      <th>ID должности</th>\n",
       "      <th>Табельный номер</th>\n",
       "      <th>Город</th>\n",
       "      <th>Должность</th>\n",
       "      <th>ФИО</th>\n",
       "      <th>Месяц</th>\n",
       "      <th>Свободная</th>\n",
       "      <th>Федеральный округ</th>\n",
       "      <th>Регион</th>\n",
       "    </tr>\n",
       "  </thead>\n",
       "  <tbody>\n",
       "    <tr>\n",
       "      <th>0</th>\n",
       "      <td>2023-01-01</td>\n",
       "      <td>1000</td>\n",
       "      <td>2201.0</td>\n",
       "      <td>Новоуральск</td>\n",
       "      <td>главный клиентский менеджер розничного бизнеса</td>\n",
       "      <td>Корнеев З.</td>\n",
       "      <td>2023-01</td>\n",
       "      <td>False</td>\n",
       "      <td>УФО</td>\n",
       "      <td>Свердловская обл.</td>\n",
       "    </tr>\n",
       "    <tr>\n",
       "      <th>1</th>\n",
       "      <td>2023-01-01</td>\n",
       "      <td>1001</td>\n",
       "      <td>2202.0</td>\n",
       "      <td>Оленегорск</td>\n",
       "      <td>управляющий операционным офисом</td>\n",
       "      <td>Сергеев Е.</td>\n",
       "      <td>2023-01</td>\n",
       "      <td>False</td>\n",
       "      <td>СЗФО</td>\n",
       "      <td>Мурманская обл.</td>\n",
       "    </tr>\n",
       "    <tr>\n",
       "      <th>2</th>\n",
       "      <td>2023-01-01</td>\n",
       "      <td>1002</td>\n",
       "      <td>2203.0</td>\n",
       "      <td>Североуральск</td>\n",
       "      <td>руководитель группы</td>\n",
       "      <td>Корнеев Д.</td>\n",
       "      <td>2023-01</td>\n",
       "      <td>False</td>\n",
       "      <td>УФО</td>\n",
       "      <td>Свердловская обл.</td>\n",
       "    </tr>\n",
       "    <tr>\n",
       "      <th>3</th>\n",
       "      <td>2023-01-01</td>\n",
       "      <td>1003</td>\n",
       "      <td>2204.0</td>\n",
       "      <td>Жуковка</td>\n",
       "      <td>офис-менеджер</td>\n",
       "      <td>Петров Н.</td>\n",
       "      <td>2023-01</td>\n",
       "      <td>False</td>\n",
       "      <td>ЦФО</td>\n",
       "      <td>Московская обл.</td>\n",
       "    </tr>\n",
       "    <tr>\n",
       "      <th>4</th>\n",
       "      <td>2023-01-01</td>\n",
       "      <td>1004</td>\n",
       "      <td>2205.0</td>\n",
       "      <td>Воркута</td>\n",
       "      <td>эксперт по работе с партнерами</td>\n",
       "      <td>Корнеев Я.</td>\n",
       "      <td>2023-01</td>\n",
       "      <td>False</td>\n",
       "      <td>СЗФО</td>\n",
       "      <td>Респ. Коми</td>\n",
       "    </tr>\n",
       "  </tbody>\n",
       "</table>\n",
       "</div>"
      ],
      "text/plain": [
       "      Период  ID должности Табельный номер          Город  \\\n",
       "0 2023-01-01          1000          2201.0    Новоуральск   \n",
       "1 2023-01-01          1001          2202.0     Оленегорск   \n",
       "2 2023-01-01          1002          2203.0  Североуральск   \n",
       "3 2023-01-01          1003          2204.0        Жуковка   \n",
       "4 2023-01-01          1004          2205.0        Воркута   \n",
       "\n",
       "                                        Должность         ФИО    Месяц  \\\n",
       "0  главный клиентский менеджер розничного бизнеса  Корнеев З.  2023-01   \n",
       "1                 управляющий операционным офисом  Сергеев Е.  2023-01   \n",
       "2                             руководитель группы  Корнеев Д.  2023-01   \n",
       "3                                   офис-менеджер   Петров Н.  2023-01   \n",
       "4                  эксперт по работе с партнерами  Корнеев Я.  2023-01   \n",
       "\n",
       "   Свободная Федеральный округ             Регион  \n",
       "0      False               УФО  Свердловская обл.  \n",
       "1      False              СЗФО    Мурманская обл.  \n",
       "2      False               УФО  Свердловская обл.  \n",
       "3      False               ЦФО    Московская обл.  \n",
       "4      False              СЗФО         Респ. Коми  "
      ]
     },
     "execution_count": 37,
     "metadata": {},
     "output_type": "execute_result"
    }
   ],
   "source": [
    "#смержим данные по городам с данными по сотрудникам\n",
    "for_task_2_enriched = for_task_2.merge(city_data, on='Город',how='left')\n",
    "for_task_2_enriched.head()"
   ]
  },
  {
   "cell_type": "code",
   "execution_count": null,
   "id": "290388fe",
   "metadata": {},
   "outputs": [],
   "source": [
    "#опять лучше скопирую данные для новго таска\n",
    "df = for_task_2_enriched.copy()"
   ]
  },
  {
   "cell_type": "code",
   "execution_count": 39,
   "id": "75461bb6",
   "metadata": {},
   "outputs": [],
   "source": [
    "#сортируем\n",
    "df = df.sort_values(['ID должности', 'Период'])\n",
    "df['Вакантна'] = df['Табельный номер'].isna() | (df['Табельный номер'] == \"Резерв\")\n",
    "df['Месяцы поиска'] = df.groupby('ID должности')['Вакантна'].cumsum()\n",
    "df.loc[~df['Вакантна'], 'Месяцы поиска'] = 0\n",
    "df['Месяцы поиска'] = df.groupby('ID должности')['Месяцы поиска'].cummax()"
   ]
  },
  {
   "cell_type": "code",
   "execution_count": null,
   "id": "517583d5",
   "metadata": {},
   "outputs": [
    {
     "data": {
      "text/html": [
       "<div>\n",
       "<style scoped>\n",
       "    .dataframe tbody tr th:only-of-type {\n",
       "        vertical-align: middle;\n",
       "    }\n",
       "\n",
       "    .dataframe tbody tr th {\n",
       "        vertical-align: top;\n",
       "    }\n",
       "\n",
       "    .dataframe thead th {\n",
       "        text-align: right;\n",
       "    }\n",
       "</style>\n",
       "<table border=\"1\" class=\"dataframe\">\n",
       "  <thead>\n",
       "    <tr style=\"text-align: right;\">\n",
       "      <th></th>\n",
       "      <th>Период</th>\n",
       "      <th>Месяц</th>\n",
       "      <th>ID должности</th>\n",
       "      <th>Город</th>\n",
       "      <th>Федеральный округ</th>\n",
       "      <th>Регион</th>\n",
       "      <th>Должность</th>\n",
       "      <th>Табельный номер</th>\n",
       "      <th>ФИО</th>\n",
       "      <th>Месяцы поиска</th>\n",
       "    </tr>\n",
       "  </thead>\n",
       "  <tbody>\n",
       "    <tr>\n",
       "      <th>0</th>\n",
       "      <td>2023-01-01</td>\n",
       "      <td>2023-01</td>\n",
       "      <td>1000</td>\n",
       "      <td>Новоуральск</td>\n",
       "      <td>УФО</td>\n",
       "      <td>Свердловская обл.</td>\n",
       "      <td>главный клиентский менеджер розничного бизнеса</td>\n",
       "      <td>2201.0</td>\n",
       "      <td>Корнеев З.</td>\n",
       "      <td>0</td>\n",
       "    </tr>\n",
       "    <tr>\n",
       "      <th>1004</th>\n",
       "      <td>2023-02-01</td>\n",
       "      <td>2023-02</td>\n",
       "      <td>1000</td>\n",
       "      <td>Новоуральск</td>\n",
       "      <td>УФО</td>\n",
       "      <td>Свердловская обл.</td>\n",
       "      <td>главный клиентский менеджер розничного бизнеса</td>\n",
       "      <td>2201.0</td>\n",
       "      <td>Корнеев З.</td>\n",
       "      <td>0</td>\n",
       "    </tr>\n",
       "    <tr>\n",
       "      <th>2008</th>\n",
       "      <td>2023-03-01</td>\n",
       "      <td>2023-03</td>\n",
       "      <td>1000</td>\n",
       "      <td>Новоуральск</td>\n",
       "      <td>УФО</td>\n",
       "      <td>Свердловская обл.</td>\n",
       "      <td>главный клиентский менеджер розничного бизнеса</td>\n",
       "      <td>2201.0</td>\n",
       "      <td>Корнеев З.</td>\n",
       "      <td>0</td>\n",
       "    </tr>\n",
       "    <tr>\n",
       "      <th>3012</th>\n",
       "      <td>2023-04-01</td>\n",
       "      <td>2023-04</td>\n",
       "      <td>1000</td>\n",
       "      <td>Новоуральск</td>\n",
       "      <td>УФО</td>\n",
       "      <td>Свердловская обл.</td>\n",
       "      <td>главный клиентский менеджер розничного бизнеса</td>\n",
       "      <td>2201.0</td>\n",
       "      <td>Корнеев З.</td>\n",
       "      <td>0</td>\n",
       "    </tr>\n",
       "    <tr>\n",
       "      <th>4016</th>\n",
       "      <td>2023-05-01</td>\n",
       "      <td>2023-05</td>\n",
       "      <td>1000</td>\n",
       "      <td>Новоуральск</td>\n",
       "      <td>УФО</td>\n",
       "      <td>Свердловская обл.</td>\n",
       "      <td>главный клиентский менеджер розничного бизнеса</td>\n",
       "      <td>2201.0</td>\n",
       "      <td>Корнеев З.</td>\n",
       "      <td>0</td>\n",
       "    </tr>\n",
       "  </tbody>\n",
       "</table>\n",
       "</div>"
      ],
      "text/plain": [
       "         Период    Месяц  ID должности        Город Федеральный округ  \\\n",
       "0    2023-01-01  2023-01          1000  Новоуральск               УФО   \n",
       "1004 2023-02-01  2023-02          1000  Новоуральск               УФО   \n",
       "2008 2023-03-01  2023-03          1000  Новоуральск               УФО   \n",
       "3012 2023-04-01  2023-04          1000  Новоуральск               УФО   \n",
       "4016 2023-05-01  2023-05          1000  Новоуральск               УФО   \n",
       "\n",
       "                 Регион                                       Должность  \\\n",
       "0     Свердловская обл.  главный клиентский менеджер розничного бизнеса   \n",
       "1004  Свердловская обл.  главный клиентский менеджер розничного бизнеса   \n",
       "2008  Свердловская обл.  главный клиентский менеджер розничного бизнеса   \n",
       "3012  Свердловская обл.  главный клиентский менеджер розничного бизнеса   \n",
       "4016  Свердловская обл.  главный клиентский менеджер розничного бизнеса   \n",
       "\n",
       "     Табельный номер         ФИО  Месяцы поиска  \n",
       "0             2201.0  Корнеев З.              0  \n",
       "1004          2201.0  Корнеев З.              0  \n",
       "2008          2201.0  Корнеев З.              0  \n",
       "3012          2201.0  Корнеев З.              0  \n",
       "4016          2201.0  Корнеев З.              0  "
      ]
     },
     "execution_count": 40,
     "metadata": {},
     "output_type": "execute_result"
    }
   ],
   "source": [
    "result_table = df[['Период', 'Месяц', 'ID должности', 'Город', 'Федеральный округ', 'Регион', 'Должность', 'Табельный номер', 'ФИО', 'Месяцы поиска']]\n",
    "result_table.head()"
   ]
  },
  {
   "cell_type": "markdown",
   "id": "8f43f731",
   "metadata": {},
   "source": [
    "4. Ответьте на следующие вопросы, построив сводные таблицы исходя из дополненных данных пункта 3;\n",
    "\n",
    "4.1. В каких городах наблюдается нехватка кадров на последний месяц? Отсортируйте по убыванию;\n",
    "\n",
    "4.2. В каком регионе работает наибольшее количество сотрудников на последний месяц? Отсортируйте по убыванию;\n",
    "\n",
    "4.3. Какие должности подвержены наибольшей текучести (подсказка: расчет из п.2.3)? Выведите наименование должности и коэффициенты текучести по месяцам, отразите первыми те должности, по которым наблюдалась наибольшая текучесть.\n"
   ]
  },
  {
   "cell_type": "markdown",
   "id": "646f1f97",
   "metadata": {},
   "source": [
    "4.1. В каких городах наблюдается нехватка кадров на последний месяц? Отсортируйте по убыванию;"
   ]
  },
  {
   "cell_type": "code",
   "execution_count": null,
   "id": "9d7e52cd",
   "metadata": {},
   "outputs": [
    {
     "data": {
      "text/html": [
       "<div>\n",
       "<style scoped>\n",
       "    .dataframe tbody tr th:only-of-type {\n",
       "        vertical-align: middle;\n",
       "    }\n",
       "\n",
       "    .dataframe tbody tr th {\n",
       "        vertical-align: top;\n",
       "    }\n",
       "\n",
       "    .dataframe thead th {\n",
       "        text-align: right;\n",
       "    }\n",
       "</style>\n",
       "<table border=\"1\" class=\"dataframe\">\n",
       "  <thead>\n",
       "    <tr style=\"text-align: right;\">\n",
       "      <th></th>\n",
       "      <th>Город</th>\n",
       "      <th>Количество вакансий</th>\n",
       "    </tr>\n",
       "  </thead>\n",
       "  <tbody>\n",
       "    <tr>\n",
       "      <th>0</th>\n",
       "      <td>nan</td>\n",
       "      <td>6</td>\n",
       "    </tr>\n",
       "    <tr>\n",
       "      <th>3</th>\n",
       "      <td>Биробиджан</td>\n",
       "      <td>2</td>\n",
       "    </tr>\n",
       "    <tr>\n",
       "      <th>5</th>\n",
       "      <td>Городец</td>\n",
       "      <td>2</td>\n",
       "    </tr>\n",
       "    <tr>\n",
       "      <th>12</th>\n",
       "      <td>Лобня</td>\n",
       "      <td>1</td>\n",
       "    </tr>\n",
       "    <tr>\n",
       "      <th>19</th>\n",
       "      <td>Сосновый Бор</td>\n",
       "      <td>1</td>\n",
       "    </tr>\n",
       "    <tr>\n",
       "      <th>18</th>\n",
       "      <td>Советский</td>\n",
       "      <td>1</td>\n",
       "    </tr>\n",
       "    <tr>\n",
       "      <th>17</th>\n",
       "      <td>Новый Уренгой</td>\n",
       "      <td>1</td>\n",
       "    </tr>\n",
       "    <tr>\n",
       "      <th>16</th>\n",
       "      <td>Нововоронеж</td>\n",
       "      <td>1</td>\n",
       "    </tr>\n",
       "    <tr>\n",
       "      <th>15</th>\n",
       "      <td>Нижний Новгород</td>\n",
       "      <td>1</td>\n",
       "    </tr>\n",
       "    <tr>\n",
       "      <th>14</th>\n",
       "      <td>Миасс</td>\n",
       "      <td>1</td>\n",
       "    </tr>\n",
       "  </tbody>\n",
       "</table>\n",
       "</div>"
      ],
      "text/plain": [
       "              Город  Количество вакансий\n",
       "0               nan                    6\n",
       "3        Биробиджан                    2\n",
       "5           Городец                    2\n",
       "12            Лобня                    1\n",
       "19     Сосновый Бор                    1\n",
       "18        Советский                    1\n",
       "17    Новый Уренгой                    1\n",
       "16      Нововоронеж                    1\n",
       "15  Нижний Новгород                    1\n",
       "14            Миасс                    1"
      ]
     },
     "execution_count": 41,
     "metadata": {},
     "output_type": "execute_result"
    }
   ],
   "source": [
    "last_month = for_task_2['Период'].max()\n",
    "#выбираем только те должности, которые были вакантны в последний месяц\n",
    "vacant_last_month = for_task_2[(for_task_2['Период'] == last_month) & \\\n",
    "(for_task_2['Табельный номер'].isna() | (for_task_2['Табельный номер'] == \"Резерв\"))]\n",
    "city_vacancies = vacant_last_month.groupby('Город').size().reset_index(name='Количество вакансий')\n",
    "city_vacancies_sorted = city_vacancies.sort_values('Количество вакансий', ascending=False)\n",
    "city_vacancies_sorted.head(10)"
   ]
  },
  {
   "cell_type": "markdown",
   "id": "8faba571",
   "metadata": {},
   "source": [
    "4.2. В каком регионе работает наибольшее количество сотрудников на последний месяц? Отсортируйте по убыванию;\n",
    "\n"
   ]
  },
  {
   "cell_type": "code",
   "execution_count": null,
   "id": "f8d509e9",
   "metadata": {},
   "outputs": [
    {
     "name": "stdout",
     "output_type": "stream",
     "text": [
      "             Регион  Число сотрудников\n",
      "24  Московская обл.                 56\n"
     ]
    }
   ],
   "source": [
    "employed_last_month = for_task_2_enriched[(for_task_2_enriched['Период'] == last_month) & \\\n",
    "(~for_task_2_enriched['Табельный номер'].isna()) & \\\n",
    "(for_task_2_enriched['Табельный номер'] != \"Резерв\")]\n",
    "#группируем по городам и считаем количество сотрудников\n",
    "region_employees = employed_last_month.groupby('Регион').size().reset_index(name='Число сотрудников')\n",
    "region_employees_sorted = region_employees.sort_values('Число сотрудников', ascending=False)\n",
    "print(region_employees_sorted.head(1))"
   ]
  },
  {
   "cell_type": "markdown",
   "id": "09429315",
   "metadata": {},
   "source": [
    "4.3. Какие должности подвержены наибольшей текучести (подсказка: расчет из п.2.3)? Выведите наименование должности и коэффициенты текучести по месяцам, отразите первыми те должности, по которым наблюдалась наибольшая текучесть."
   ]
  },
  {
   "cell_type": "code",
   "execution_count": null,
   "id": "81a2d150",
   "metadata": {},
   "outputs": [
    {
     "name": "stdout",
     "output_type": "stream",
     "text": [
      "                          Должность  Средняя текучесть (%)\n",
      "0                            Резерв             100.000000\n",
      "25  управляющий операционным офисом               6.153846\n",
      "3        главный кредитный аналитик               5.500000\n",
      "26                          эксперт               4.827586\n",
      "20              руководитель группы               4.444444\n"
     ]
    }
   ],
   "source": [
    "#долa свободных по должностям и месяцам, уменьшимч сило строк лямбдой\n",
    "turnover_pivot = for_task_2_enriched.groupby(['Должность', 'Месяц']).agg(Доля_свободных=('Свободная', lambda x: x.mean() * 100)).reset_index()\n",
    "#mean по месяцам по должностям\n",
    "avg_turnover = turnover_pivot.groupby('Должность')['Доля_свободных'].mean().reset_index(name='Средняя текучесть (%)')\n",
    "avg_turnover_sorted = avg_turnover.sort_values('Средняя текучесть (%)', ascending=False)\n",
    "print(avg_turnover_sorted.head())"
   ]
  },
  {
   "cell_type": "markdown",
   "id": "439ddf46",
   "metadata": {},
   "source": [
    "5. Визуализация (тип диаграммы и библиотека на ваше усмотрение);\n",
    "\n",
    "5.1. Количество действующих сотрудников по Федеральным округам;\n",
    "\n",
    "5.2. Количество свободных должностей по регионам.\n"
   ]
  },
  {
   "cell_type": "markdown",
   "id": "295cb5d5",
   "metadata": {},
   "source": [
    "импортируем модкли для визуализации"
   ]
  },
  {
   "cell_type": "code",
   "execution_count": 44,
   "id": "5687c654",
   "metadata": {},
   "outputs": [],
   "source": [
    "import matplotlib.pyplot as plt\n",
    "import seaborn as sns\n"
   ]
  },
  {
   "cell_type": "code",
   "execution_count": null,
   "id": "62974c71",
   "metadata": {},
   "outputs": [],
   "source": [
    "employed = for_task_2_enriched[\n",
    "    (~for_task_2_enriched['Табельный номер'].isna()) & \n",
    "    (for_task_2_enriched['Табельный номер'] != \"Резерв\")\n",
    "]\n",
    "\n",
    "#сггруппируем по федеральным округам\n",
    "df_employed = employed.groupby('Федеральный округ').size().reset_index(name='Число сотрудников')\n"
   ]
  },
  {
   "cell_type": "code",
   "execution_count": 46,
   "id": "33e2f84b",
   "metadata": {},
   "outputs": [
    {
     "data": {
      "image/png": "[encoded data removed]",
      "text/plain": [
       "<Figure size 1000x600 with 1 Axes>"
      ]
     },
     "metadata": {},
     "output_type": "display_data"
    }
   ],
   "source": [
    "#отобразим на плоте\n",
    "plt.figure(figsize=(10, 6))\n",
    "sns.barplot(\n",
    "    data=df_employed,\n",
    "    x='Федеральный округ',\n",
    "    y='Число сотрудников',\n",
    "    palette='Blues'\n",
    ")\n",
    "plt.title('Количество действующих сотрудников по федеральным округам')\n",
    "plt.xticks(rotation=45)\n",
    "plt.show()"
   ]
  },
  {
   "cell_type": "code",
   "execution_count": null,
   "id": "2804b8cf",
   "metadata": {},
   "outputs": [],
   "source": [
    "#свободные должности\n",
    "vacant = for_task_2_enriched[(for_task_2_enriched['Табельный номер'].isna()) | \\\n",
    "(for_task_2_enriched['Табельный номер'] == \"Резерв\")]\n",
    "#сгруппируем по регионам и сортируем\n",
    "df_vacant = vacant.groupby('Регион').size().reset_index(name='Свободные должности')\n",
    "df_vacant = df_vacant.sort_values('Свободные должности', ascending=False).head(10)\n"
   ]
  },
  {
   "cell_type": "code",
   "execution_count": 49,
   "id": "a146808c",
   "metadata": {},
   "outputs": [
    {
     "data": {
      "image/png": "[encoded data removed]",
      "text/plain": [
       "<Figure size 1000x600 with 1 Axes>"
      ]
     },
     "metadata": {},
     "output_type": "display_data"
    }
   ],
   "source": [
    "plt.figure(figsize=(10, 6))\n",
    "sns.barplot(\n",
    "    data=df_vacant,\n",
    "    y='Регион',\n",
    "    x='Свободные должности',\n",
    "    palette='Reds'\n",
    ")\n",
    "plt.title('Топ-10 регионов по количеству свободных должностей')\n",
    "plt.xlabel('Количество вакансий')\n",
    "plt.show()"
   ]
  }
 ],
 "metadata": {
  "kernelspec": {
   "display_name": "base",
   "language": "python",
   "name": "python3"
  },
  "language_info": {
   "codemirror_mode": {
    "name": "ipython",
    "version": 3
   },
   "file_extension": ".py",
   "mimetype": "text/x-python",
   "name": "python",
   "nbconvert_exporter": "python",
   "pygments_lexer": "ipython3",
   "version": "3.12.3"
  }
 },
 "nbformat": 4,
 "nbformat_minor": 5
}
